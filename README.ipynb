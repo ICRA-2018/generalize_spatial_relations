{
 "cells": [
  {
   "cell_type": "markdown",
   "metadata": {},
   "source": [
    "# Code for: Optimization Beyond the Convolution: Generalizing Spatial Relations with End-to-End Metric Learning\n",
    "\n",
    "This repository contains the code for our paper on generalizing spatial\n",
    "relations with end-to end metric learning, published at ICRA2018.\n",
    "\n",
    "## News\n",
    "\n",
    "- 24.06.2018 **We won the ICRA2018 Best Paper Award in Robot Vision!**\n",
    "\n",
    "## Setup:\n",
    "\n",
    "Install this repository (in development mode) using pip:"
   ]
  },
  {
   "cell_type": "code",
   "execution_count": null,
   "metadata": {},
   "outputs": [],
   "source": [
    "git clone https://github.com/PhilJd/generalize_spatial_relations\n",
    "cd generalize_spatial_relations\n",
    "pip install -e ."
   ]
  },
  {
   "cell_type": "markdown",
   "metadata": {},
   "source": [
    "If you'd like to extend the code, I highly recommend to\n",
    "additionally install pandas as it reads in the point clouds in 3 seconds,\n",
    "while numpy takes over 30 seconds.\n",
    "\n",
    "- Download the [dataset](http://spatialrelations.cs.uni-freiburg.de/#dataset)\n",
    "- Navigate to the relations dataset and create the point clouds from the .obj files (needs pcl):\n",
    "  ```cd scripts; ./create_uniform_pcd.sh```\n",
    "\n",
    "\n",
    "## Training\n",
    "To train all 15 splits run `train.py`:"
   ]
  },
  {
   "cell_type": "code",
   "execution_count": null,
   "metadata": {},
   "outputs": [],
   "source": [
    "CUDA_VISIBLE_DEVICES=0 python train.py --logdir=$STORE_WEIGHTS_HERE --data_dir=$OBJECT_MODELS_ARE_HERE --more_augmentation=True"
   ]
  },
  {
   "cell_type": "markdown",
   "metadata": {},
   "source": [
    "Adding the flag --more_augmentation applies stronger augmentation, i.e. \n",
    "clones a scene three times and applies stronger augmentation to the third clone. This leads\n",
    "to a better metric performance but might lead to less realistic generalizations.\n",
    "\n",
    "To train a model on all the data add the flag `--train_on_all_data`.\n",
    "\n",
    "\n",
    "## Experiments (generalize relations)\n",
    "\n",
    "To generalize relations from one scene to another, take a look at `generalize.py`.\n",
    "Here we picked a random subset of the scenes and use each scene as a reference to\n",
    "generalize the relation to all other scenes of this subset. The 3d visualization\n",
    "requires Mayavi to be installed and running it is extremely slow (~12 hours to generate\n",
    "all scenes.)\n",
    "\n",
    "## Integrate the model into your code\n",
    "For a simple example of how you could use this model in your code, see\n",
    "`SpatialRelationCNN/inference_example.py`.\n",
    "Please note that the code currently runs on GPU only."
   ]
  }
 ],

 "metadata": {
  "kernelspec": {
   "display_name": "Bash",
   "language": "bash",
   "name": "bash"
  },
  "language_info": {
   "codemirror_mode": "shell",
   "file_extension": ".sh",
   "mimetype": "text/x-sh",
   "name": "bash"
  }
 },
 "nbformat": 4,
 "nbformat_minor": 2
}
